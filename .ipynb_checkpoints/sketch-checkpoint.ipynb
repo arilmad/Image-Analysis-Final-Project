{
 "cells": [
  {
   "cell_type": "code",
   "execution_count": 1,
   "metadata": {},
   "outputs": [],
   "source": [
    "#!pip install -r requirements.txt\n",
    "\n",
    "import av\n",
    "import cv2\n",
    "import numpy as np\n",
    "import skimage\n",
    "from skimage.color import rgb2gray\n",
    "from skimage.exposure import rescale_intensity\n",
    "from PIL import Image\n",
    "from matplotlib import pyplot as plt"
   ]
  },
  {
   "cell_type": "code",
   "execution_count": 2,
   "metadata": {},
   "outputs": [],
   "source": [
    "def load_frames(video_path):\n",
    "    \n",
    "    frames = []\n",
    "    v = av.open(video_path)\n",
    "    for packet in v.demux():\n",
    "        for frame in packet.decode():\n",
    "            img = frame.to_image()\n",
    "            arr = np.asarray(img)\n",
    "            frames.append(arr)\n",
    "    return frames"
   ]
  },
  {
   "cell_type": "code",
   "execution_count": 3,
   "metadata": {},
   "outputs": [],
   "source": [
    "def equalize_intensity(img):\n",
    "    p2, p98 = np.percentile(img, (0, 18))\n",
    "    return rescale_intensity(img, in_range=(p2,p98))"
   ]
  },
  {
   "cell_type": "code",
   "execution_count": 4,
   "metadata": {},
   "outputs": [],
   "source": [
    "def rgb_threshold(im, thresholds):\n",
    "    'Thresholds RGB image'\n",
    "    \n",
    "    c = im.copy()\n",
    "    \n",
    "    mask = c[:,:,0] > thresholds[0][0]\n",
    "\n",
    "    for i, (l_thr, u_thr) in enumerate(thresholds):\n",
    "        mask &= (c[:,:,i] > l_thr)\n",
    "        mask &= (c[:,:,i] < u_thr)\n",
    "    \n",
    "    c[~mask] = (0,0,0)\n",
    "    \n",
    "    return c"
   ]
  },
  {
   "cell_type": "code",
   "execution_count": 5,
   "metadata": {},
   "outputs": [],
   "source": [
    "def createIndexGrid(image_shape, distance):\n",
    "    'Creates an evenly spaced grid of coordinates across an image'\n",
    "    \n",
    "    indices = []\n",
    "    \n",
    "    for xi in range(image_shape[0]):\n",
    "        for yi in range(image_shape[1]):\n",
    "            if (xi%distance, yi%distance)==(0,0): \n",
    "                indices.append((xi, yi))            \n",
    "    return indices"
   ]
  },
  {
   "cell_type": "code",
   "execution_count": 6,
   "metadata": {},
   "outputs": [],
   "source": [
    "def neighbourInRange(lower, upper, neighbour, _):\n",
    "    'Helper fn for region growing'\n",
    "    \n",
    "    return lower < neighbour < upper"
   ]
  },
  {
   "cell_type": "code",
   "execution_count": 7,
   "metadata": {},
   "outputs": [],
   "source": [
    "def collectRegion(seed, visited, im, lower_threshold, upper_threshold, fn=neighbourInRange, HIGHEST_PIX_VALUE=255):\n",
    "    'Returns a region of pixel coordinate neighbours which satisfy the region criterion set by _fn_'\n",
    "\n",
    "    detected = set([seed])\n",
    "    region = set()\n",
    "\n",
    "    x_min = y_min = 0\n",
    "    x_max, y_max = im.shape\n",
    "    \n",
    "    while len(detected):\n",
    "        \n",
    "        pix = detected.pop()\n",
    "        \n",
    "        if pix in visited: continue\n",
    "                \n",
    "        pix_val = im[pix]\n",
    "        \n",
    "        x, y = pix\n",
    "    \n",
    "        for xi in range(max(x-1, x_min), min(x+2, x_max), 2):\n",
    "            if ((xi, y)) in visited: continue\n",
    "            if fn(lower_threshold, upper_threshold, im[xi, y], pix_val): detected.add((xi, y))\n",
    "        for yi in range(max(y-1, y_min), min(y+2, y_max), 2):\n",
    "            if ((x, yi)) in visited: continue\n",
    "            if fn(lower_threshold, upper_threshold, im[x, yi], pix_val): detected.add((x, yi))\n",
    "                \n",
    "        region.add(pix)\n",
    "        visited.add(pix)\n",
    "        \n",
    "    return list(region)"
   ]
  },
  {
   "cell_type": "code",
   "execution_count": 8,
   "metadata": {},
   "outputs": [],
   "source": [
    "def collectAllRegions(seeds, im, min_region_size, max_region_size, l_thr, u_thr, fn=neighbourInRange):\n",
    "    'Runs collectRegion for every seed and returns a list of all connex regions in the image'\n",
    "    \n",
    "    regions = []\n",
    "    visited = set()\n",
    "\n",
    "    for seed in seeds:\n",
    "        \n",
    "        if seed in visited: continue\n",
    "            \n",
    "        region = collectRegion(seed, visited, im, l_thr, u_thr, fn=fn)\n",
    "        \n",
    "        if min_region_size <= len(region) <= max_region_size: regions.append(region)\n",
    "        \n",
    "        \n",
    "    return np.array(regions), visited"
   ]
  },
  {
   "cell_type": "code",
   "execution_count": 9,
   "metadata": {},
   "outputs": [],
   "source": [
    "def markIndices(im, indices, exaggerate=False):\n",
    "    'Returns a copy of the image where indices are white'\n",
    "    'Exaggerate to ease visualization'\n",
    "    \n",
    "    tp = im.copy()\n",
    "    ind = np.array(indices)\n",
    "    x, y = ind[:,0], ind[:,1]\n",
    "    tp[x, y] = 255\n",
    "    \n",
    "    if exaggerate: \n",
    "        for i in range(-1,2):\n",
    "            for j in range(-1,2):\n",
    "                tp[x-i, y-j] = 255\n",
    "    return tp"
   ]
  },
  {
   "cell_type": "code",
   "execution_count": 10,
   "metadata": {},
   "outputs": [],
   "source": [
    "def rgb_to_binary(im):\n",
    "    c = im.copy()\n",
    "    grayscale = (rgb2gray(c)*256).astype('uint8')\n",
    "    grayscale[grayscale != 0] = 1\n",
    "    return grayscale"
   ]
  },
  {
   "cell_type": "code",
   "execution_count": 11,
   "metadata": {},
   "outputs": [],
   "source": [
    "def locate_frame(region):\n",
    "    max_x = max(region[:,0])\n",
    "    max_y = max(region[:,1])\n",
    "    min_x = min(region[:,0])\n",
    "    min_y = min(region[:,1])\n",
    "    \n",
    "    return max_x, max_y, min_x, min_y"
   ]
  },
  {
   "cell_type": "code",
   "execution_count": 12,
   "metadata": {},
   "outputs": [],
   "source": [
    "def draw_bw_frame(im_shape, max_x, max_y, min_x, min_y):\n",
    "        \n",
    "    g = np.zeros(im_shape)\n",
    "    \n",
    "    g[max_x-2:max_x+2, min_y:max_y] = 255\n",
    "    g[min_x-2:min_x+2, min_y:max_y] = 255\n",
    "\n",
    "    g[min_x:max_x, min_y-2:min_y+2] = 255\n",
    "    g[min_x:max_x, max_y-2:max_y+2] = 255\n",
    "    \n",
    "    return g"
   ]
  },
  {
   "cell_type": "code",
   "execution_count": 13,
   "metadata": {},
   "outputs": [],
   "source": [
    "def gray_to_color(im, color):\n",
    "    colors = {'red':0, 'green':1, 'blue':2}\n",
    "    assert (color in colors)\n",
    "    \n",
    "    c = colors[color]\n",
    "    \n",
    "    rgb_cell = [0,0,0]\n",
    "    rgb_cell[c] = 255\n",
    "    \n",
    "    frame = np.array([[[0,0,0] for _ in range(im.shape[1])] for _ in range(im.shape[0])])\n",
    "    \n",
    "    frame[im>0] = rgb_cell\n",
    "    \n",
    "    return frame    "
   ]
  },
  {
   "cell_type": "code",
   "execution_count": 14,
   "metadata": {},
   "outputs": [],
   "source": [
    "def locate_rgb_regions(rgb_im, seed, min_size, max_size, l_thr, u_thr):\n",
    "    c = rgb_im.copy()\n",
    "    \n",
    "    black_white = rgb_to_binary(c)*255\n",
    "    seeds = createIndexGrid(black_white.shape, seed)\n",
    "    regions, _ = collectAllRegions(seeds, black_white, min_size, max_size, l_thr, u_thr)\n",
    "    \n",
    "    return regions"
   ]
  },
  {
   "cell_type": "code",
   "execution_count": 15,
   "metadata": {},
   "outputs": [],
   "source": [
    "def overlap_frames(underlying, overlying):\n",
    "    c = underlying.copy()\n",
    "    c[np.where(overlying)] = overlying[np.where(overlying)]\n",
    "    \n",
    "    return c"
   ]
  },
  {
   "cell_type": "code",
   "execution_count": 16,
   "metadata": {},
   "outputs": [],
   "source": [
    "def extract_candidate_frame(im, max_x, max_y, min_x, min_y):\n",
    "    \n",
    "    x_limit, y_limit = im.shape[:-1]\n",
    "    \n",
    "    width = max(max_x-min_x, max_y-min_y)\n",
    "\n",
    "    x_delta = width - (max_x-min_x)\n",
    "    min_x -= x_delta//2\n",
    "    buffer = min(0, min_x)\n",
    "    \n",
    "    max_x += x_delta//2\n",
    "    'If border point'\n",
    "    if buffer: \n",
    "        max_x += (-buffer)\n",
    "        min_x = 0\n",
    "    else:\n",
    "        buffer = max_x - (x_limit-1)\n",
    "        if buffer > 0: \n",
    "            min_x -= buffer\n",
    "            max_x = x_limit-1\n",
    "    \n",
    "    y_delta = width - (max_y-min_y)\n",
    "    min_y -= y_delta//2\n",
    "    buffer = min(0, min_y)\n",
    "\n",
    "    max_y += y_delta//2\n",
    "    'If border point'\n",
    "    if buffer: \n",
    "        max_y += (-buffer)\n",
    "        min_y = 0\n",
    "    else:\n",
    "        buffer = max_y - (y_limit-1)\n",
    "        if buffer > 0: \n",
    "            min_y -= buffer\n",
    "            max_y = y_limit-1\n",
    "            \n",
    "    img = im.copy()\n",
    "    img = img[min_x:max_x, min_y:max_y]\n",
    "    \n",
    "    img = Image.fromarray(img)\n",
    "    img = img.resize((32,32))\n",
    "    \n",
    "    return np.array(img)"
   ]
  },
  {
   "cell_type": "code",
   "execution_count": 17,
   "metadata": {},
   "outputs": [],
   "source": [
    "def output_frames(frames, path):\n",
    "    container = av.open(path, mode='w')\n",
    "    \n",
    "    stream = container.add_stream('mpeg4', rate=2)\n",
    "    (h, w) = frames[0].shape[:-1]\n",
    "\n",
    "    stream.width = w\n",
    "    stream.height = h\n",
    "    stream.pix_fmt = 'yuv420p'\n",
    "    \n",
    "    for f in frames:\n",
    "        frame = av.VideoFrame.from_ndarray(f, format='rgb24')\n",
    "        for packet in stream.encode(frame): container.mux(packet)\n",
    "    for packet in stream.encode(): container.mux(packet)\n",
    "    container.close()"
   ]
  },
  {
   "cell_type": "code",
   "execution_count": 18,
   "metadata": {},
   "outputs": [],
   "source": [
    "def main():\n",
    "\n",
    "    'Load frames'\n",
    "    src_path = 'src/robot_parcours_1.avi'\n",
    "    frames = load_frames(src_path)\n",
    "\n",
    "    n = len(frames)\n",
    "    print('(main) Loaded {} frames'.format(n))\n",
    "\n",
    "    'Equalize frames'\n",
    "    eq_frames = [equalize_intensity(f) for f in frames]\n",
    "    first_frame = eq_frames[0]\n",
    "\n",
    "    'Threshold frames to find the _red_ arrow'\n",
    "    arrows = [rgb_threshold(f, ((180, 256), (-1,190), (-1,190))) for f in eq_frames]\n",
    "\n",
    "    'Identify coordinates of the arrows using region growing'\n",
    "    'Then create black frame with colored rectangle surrounding the arrow'\n",
    "    arrow_frames = []\n",
    "\n",
    "    'Extract from the equalized first image the area beneath vehicle'\n",
    "    'This snippet will possibly be evaluated by NN'\n",
    "    symbol_candidates = []\n",
    "\n",
    "    for i, a in enumerate(arrows):\n",
    "\n",
    "        arrow_regions = locate_rgb_regions(a, 10, 1000, 3000, 250, 256)\n",
    "        assert (len(arrow_regions)==1), 'Found no arrow in frame {}'.format(i)\n",
    "\n",
    "        'Draw surrounding frame'\n",
    "        max_x, max_y, min_x, min_y = locate_frame(arrow_regions[0])\n",
    "        frame = draw_bw_frame(a.shape[:-1], max_x, max_y, min_x, min_y)\n",
    "        arrow_frames.append(gray_to_color(frame, 'green'))\n",
    "\n",
    "        print('(main) Identified arrow no. {}/{}'.format(i, n), end='\\r')\n",
    "\n",
    "        'Generate a 32x32 image from the area underneath the arrow'\n",
    "        symbol_candidates.append(extract_candidate_frame(first_frame, max_x, max_y, min_x, min_y))\n",
    "\n",
    "    print('(main) Successfully identified all arrows!')\n",
    "\n",
    "    'Add the surrounding rectangles to the original footage'\n",
    "    original_and_arrow_trace = [overlap_frames(f, a) for f, a in zip(frames, arrow_frames)]\n",
    "\n",
    "    'Output'\n",
    "    output_frames(original_and_arrow_trace, 'out/test.avi')"
   ]
  },
  {
   "cell_type": "code",
   "execution_count": 19,
   "metadata": {},
   "outputs": [
    {
     "name": "stdout",
     "output_type": "stream",
     "text": [
      "(main) Loaded 42 frames\n",
      "(main) Successfully identified all arrows!\n"
     ]
    }
   ],
   "source": [
    "main()"
   ]
  },
  {
   "cell_type": "code",
   "execution_count": null,
   "metadata": {},
   "outputs": [],
   "source": []
  }
 ],
 "metadata": {
  "kernelspec": {
   "display_name": "Python 3",
   "language": "python",
   "name": "python3"
  },
  "language_info": {
   "codemirror_mode": {
    "name": "ipython",
    "version": 3
   },
   "file_extension": ".py",
   "mimetype": "text/x-python",
   "name": "python",
   "nbconvert_exporter": "python",
   "pygments_lexer": "ipython3",
   "version": "3.7.2"
  }
 },
 "nbformat": 4,
 "nbformat_minor": 4
}
