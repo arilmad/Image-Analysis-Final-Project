{
 "cells": [
  {
   "cell_type": "code",
   "execution_count": 1,
   "metadata": {},
   "outputs": [],
   "source": [
    "import numpy as np\n",
    "from PIL import Image, ImageOps\n",
    "from matplotlib import pyplot as plt\n",
    "%matplotlib inline"
   ]
  },
  {
   "cell_type": "markdown",
   "metadata": {},
   "source": [
    "## Import the original mnist dataset"
   ]
  },
  {
   "cell_type": "code",
   "execution_count": 9,
   "metadata": {},
   "outputs": [],
   "source": [
    "from keras.datasets import mnist\n",
    "\n",
    "ROWS = COLS = 28\n",
    "\n",
    "(X_train, y_train), (X_test, y_test) = mnist.load_data()\n",
    "\n",
    "X_train = X_train.reshape(X_train.shape[0], ROWS, COLS, 1).astype('float32')\n",
    "X_test = X_test.reshape(X_test.shape[0], ROWS, COLS, 1).astype('float32')"
   ]
  },
  {
   "cell_type": "markdown",
   "metadata": {},
   "source": [
    "## Remove nines"
   ]
  },
  {
   "cell_type": "code",
   "execution_count": 10,
   "metadata": {},
   "outputs": [],
   "source": [
    "X_train = np.append(X_train, X_test, axis=0)\n",
    "y_train = np.append(y_train, y_test, axis=0)\n",
    "\n",
    "X_train = X_train[np.where(y_train!=9)]\n",
    "y_train = y_train[np.where(y_train!=9)]"
   ]
  },
  {
   "cell_type": "code",
   "execution_count": 11,
   "metadata": {},
   "outputs": [
    {
     "data": {
      "text/plain": [
       "(63042, 28, 28, 1)"
      ]
     },
     "execution_count": 11,
     "metadata": {},
     "output_type": "execute_result"
    }
   ],
   "source": [
    "X_train.shape"
   ]
  },
  {
   "cell_type": "code",
   "execution_count": 12,
   "metadata": {},
   "outputs": [],
   "source": [
    "from tensorflow.keras.preprocessing.image import ImageDataGenerator"
   ]
  },
  {
   "cell_type": "code",
   "execution_count": 13,
   "metadata": {},
   "outputs": [],
   "source": [
    "gen = ImageDataGenerator(rotation_range=360, width_shift_range=0.1, height_shift_range=0.1, zoom_range=-0.3)"
   ]
  },
  {
   "cell_type": "markdown",
   "metadata": {},
   "source": [
    "## Generate from every image mock images (zoomed, rotated, shifted...)"
   ]
  },
  {
   "cell_type": "code",
   "execution_count": 14,
   "metadata": {},
   "outputs": [
    {
     "name": "stdout",
     "output_type": "stream",
     "text": [
      "Handled 63000/63042 rows. Generated 693000 images.\r"
     ]
    }
   ],
   "source": [
    "new_x_train = []\n",
    "new_y_train = []\n",
    "m = len(y_train)\n",
    "\n",
    "gen = ImageDataGenerator(rotation_range=360, width_shift_range=0.1, height_shift_range=0.1, zoom_range=-0.3)\n",
    "\n",
    "for i, (y, im) in enumerate(zip(y_train, X_train)):\n",
    "    im[im<=30] = 0\n",
    "    im[im>30] = 1\n",
    "    im = im.reshape(1,28,28,1)\n",
    "    it = gen.flow(im, batch_size=1)\n",
    "    n = 10\n",
    "    new_x_train.append(im)\n",
    "    new_y_train += [y]*11\n",
    "    for _ in range(10):\n",
    "        im = it.next().astype('uint8')\n",
    "        new_x_train.append(im)\n",
    "    if (i+1)%100==0: print(f'Handled {i+1}/{m} rows. Generated {(i+1) * 11} images.', end='\\r')"
   ]
  },
  {
   "cell_type": "code",
   "execution_count": 15,
   "metadata": {},
   "outputs": [],
   "source": [
    "X_train = np.array(new_x_train).reshape(len(new_x_train),28,28,1)"
   ]
  },
  {
   "cell_type": "code",
   "execution_count": 16,
   "metadata": {},
   "outputs": [],
   "source": [
    "y_train = np.array(new_y_train)"
   ]
  },
  {
   "cell_type": "code",
   "execution_count": 17,
   "metadata": {},
   "outputs": [
    {
     "data": {
      "text/plain": [
       "77051"
      ]
     },
     "execution_count": 17,
     "metadata": {},
     "output_type": "execute_result"
    }
   ],
   "source": [
    "len(X_train)//len(np.unique(y_train))"
   ]
  },
  {
   "cell_type": "code",
   "execution_count": 20,
   "metadata": {},
   "outputs": [],
   "source": [
    "np.save('train_data/numbers_X', X_train)\n",
    "np.save('train_data/numbers_y', y_train)"
   ]
  },
  {
   "cell_type": "code",
   "execution_count": 21,
   "metadata": {},
   "outputs": [],
   "source": [
    "# add = 9\n",
    "# divide = 10\n",
    "# subtract = 11\n",
    "# multiply = 12\n",
    "# equals = 13"
   ]
  },
  {
   "cell_type": "markdown",
   "metadata": {},
   "source": [
    "## Import the (few) instances of operators. Generate mock images (zoomed, rotated, shifted)"
   ]
  },
  {
   "cell_type": "code",
   "execution_count": 23,
   "metadata": {},
   "outputs": [
    {
     "name": "stdout",
     "output_type": "stream",
     "text": [
      "Generated all train images for pad_0.png!         \n",
      "Generated all train images for pad_1.png!         \n",
      "Generated all train images for pad_2.png!         \n",
      "Generated all train images for pad_3.png!         \n",
      "Generated all train images for pad_0.png!         \n",
      "Generated all train images for pad_1.png!         \n",
      "Generated all train images for pad_2.png!         \n",
      "Generated all train images for pad_3.png!         \n",
      "Generated all train images for pad_0.png!         \n",
      "Generated all train images for pad_1.png!         \n",
      "Generated all train images for pad_2.png!         \n",
      "Generated all train images for pad_3.png!         \n",
      "Generated all train images for pad_0.png!         \n",
      "Generated all train images for pad_1.png!         \n",
      "Generated all train images for pad_2.png!         \n",
      "Generated all train images for pad_3.png!         \n",
      "Generated all train images for pad_0.png!         \n",
      "Generated all train images for pad_1.png!         \n",
      "Generated all train images for pad_2.png!         \n",
      "Generated all train images for pad_3.png!         \n"
     ]
    }
   ],
   "source": [
    "for symbol, alias in zip(['add', 'divide', 'subtract', 'multiply', 'equals'], [str(a) for a in range(9, 14)]):\n",
    "\n",
    "    samples = ['pad_0.png', 'pad_1.png', 'pad_2.png', 'pad_3.png'] \n",
    "    n = 77000//len(samples)\n",
    "\n",
    "    for s in samples:\n",
    "        base_im = Image.open(f'data_gen/{symbol}/{s}')\n",
    "        base_im = np.array(ImageOps.invert(base_im))\n",
    "        base_im = base_im.reshape(1, ROWS, COLS, 1).astype('uint8')\n",
    "\n",
    "        it = gen.flow(base_im, batch_size=1)\n",
    "        arr = []\n",
    "        for i in range(n):\n",
    "            im = it.next().astype('uint8')\n",
    "            im[im<=30] = 0\n",
    "            im[im>30] = 1\n",
    "            arr.append(im)\n",
    "            if (i+1)%100==0: print(f'Generated {i+1}/{n} train images', end='\\r')\n",
    "        X_train = np.append(X_train, np.array(arr)[:,0,:], axis=0)\n",
    "        y_train = np.append(y_train, [alias]*n, axis=0)\n",
    "        print(f'Generated all train images for {s}!         ')"
   ]
  },
  {
   "cell_type": "code",
   "execution_count": 24,
   "metadata": {},
   "outputs": [],
   "source": [
    "np.save('train_data/all_data_X', X_train)\n",
    "np.save('train_data/all_data_y', y_train)"
   ]
  },
  {
   "cell_type": "code",
   "execution_count": 25,
   "metadata": {},
   "outputs": [
    {
     "data": {
      "text/plain": [
       "0"
      ]
     },
     "execution_count": 25,
     "metadata": {},
     "output_type": "execute_result"
    }
   ],
   "source": [
    "len(X_train) - len(y_train)"
   ]
  },
  {
   "cell_type": "code",
   "execution_count": 26,
   "metadata": {},
   "outputs": [],
   "source": [
    "from keras.models import Sequential\n",
    "from keras.layers import Dense, Dropout, Flatten\n",
    "from keras.layers import Conv2D, MaxPooling2D"
   ]
  },
  {
   "cell_type": "code",
   "execution_count": 27,
   "metadata": {},
   "outputs": [],
   "source": [
    "batch_size = 128\n",
    "num_classes = 14\n",
    "epochs = 1\n",
    "\n",
    "input_shape = (ROWS, COLS, 1)"
   ]
  },
  {
   "cell_type": "markdown",
   "metadata": {},
   "source": [
    "## Shuffle the data, use 20% for validation and save several epochs"
   ]
  },
  {
   "cell_type": "code",
   "execution_count": 28,
   "metadata": {},
   "outputs": [],
   "source": [
    "from sklearn.model_selection import train_test_split\n",
    "from sklearn.utils import shuffle\n",
    "X_train, y_train = shuffle(X_train, y_train)\n",
    "X_train, X_test, y_train, y_test = train_test_split(X_train, y_train, test_size=0.2, random_state=42)"
   ]
  },
  {
   "cell_type": "code",
   "execution_count": 29,
   "metadata": {},
   "outputs": [
    {
     "name": "stdout",
     "output_type": "stream",
     "text": [
      "WARNING:tensorflow:From C:\\ProgramData\\Anaconda3\\lib\\site-packages\\keras\\backend\\tensorflow_backend.py:74: The name tf.get_default_graph is deprecated. Please use tf.compat.v1.get_default_graph instead.\n",
      "\n",
      "WARNING:tensorflow:From C:\\ProgramData\\Anaconda3\\lib\\site-packages\\keras\\backend\\tensorflow_backend.py:517: The name tf.placeholder is deprecated. Please use tf.compat.v1.placeholder instead.\n",
      "\n",
      "WARNING:tensorflow:From C:\\ProgramData\\Anaconda3\\lib\\site-packages\\keras\\backend\\tensorflow_backend.py:4138: The name tf.random_uniform is deprecated. Please use tf.random.uniform instead.\n",
      "\n",
      "WARNING:tensorflow:From C:\\ProgramData\\Anaconda3\\lib\\site-packages\\keras\\backend\\tensorflow_backend.py:3976: The name tf.nn.max_pool is deprecated. Please use tf.nn.max_pool2d instead.\n",
      "\n",
      "WARNING:tensorflow:From C:\\ProgramData\\Anaconda3\\lib\\site-packages\\keras\\backend\\tensorflow_backend.py:133: The name tf.placeholder_with_default is deprecated. Please use tf.compat.v1.placeholder_with_default instead.\n",
      "\n",
      "WARNING:tensorflow:From C:\\ProgramData\\Anaconda3\\lib\\site-packages\\keras\\backend\\tensorflow_backend.py:3445: calling dropout (from tensorflow.python.ops.nn_ops) with keep_prob is deprecated and will be removed in a future version.\n",
      "Instructions for updating:\n",
      "Please use `rate` instead of `keep_prob`. Rate should be set to `rate = 1 - keep_prob`.\n",
      "WARNING:tensorflow:From C:\\ProgramData\\Anaconda3\\lib\\site-packages\\keras\\optimizers.py:790: The name tf.train.Optimizer is deprecated. Please use tf.compat.v1.train.Optimizer instead.\n",
      "\n",
      "WARNING:tensorflow:From C:\\ProgramData\\Anaconda3\\lib\\site-packages\\keras\\backend\\tensorflow_backend.py:3295: The name tf.log is deprecated. Please use tf.math.log instead.\n",
      "\n"
     ]
    }
   ],
   "source": [
    "import keras\n",
    "\n",
    "y_train = keras.utils.to_categorical(y_train, num_classes)\n",
    "y_test = keras.utils.to_categorical(y_test, num_classes)\n",
    "\n",
    "model = Sequential()\n",
    "model.add(Conv2D(32, kernel_size=(3,3),\n",
    "                 activation='relu',\n",
    "                 input_shape=input_shape))\n",
    "model.add(Conv2D(64, (3,3), activation='relu'))\n",
    "model.add(MaxPooling2D(pool_size=(2,2)))\n",
    "model.add(Dropout(0.25))\n",
    "model.add(Flatten())\n",
    "model.add(Dense(128, activation='relu'))\n",
    "model.add(Dropout(0.5))\n",
    "model.add(Dense(num_classes, activation='softmax'))\n",
    "\n",
    "model.compile(loss=keras.losses.categorical_crossentropy,\n",
    "              optimizer=keras.optimizers.Adadelta(),\n",
    "              metrics=['accuracy'])"
   ]
  },
  {
   "cell_type": "code",
   "execution_count": 56,
   "metadata": {},
   "outputs": [
    {
     "name": "stdout",
     "output_type": "stream",
     "text": [
      "WARNING:tensorflow:From C:\\ProgramData\\Anaconda3\\lib\\site-packages\\tensorflow\\python\\ops\\math_grad.py:1250: add_dispatch_support.<locals>.wrapper (from tensorflow.python.ops.array_ops) is deprecated and will be removed in a future version.\n",
      "Instructions for updating:\n",
      "Use tf.where in 2.0, which has the same broadcast rule as np.where\n",
      "Train on 862769 samples, validate on 215693 samples\n",
      "Epoch 1/1\n",
      "862769/862769 [==============================] - 1599s 2ms/step - loss: 0.6211 - acc: 0.7975 - val_loss: 0.2696 - val_acc: 0.9188\n"
     ]
    }
   ],
   "source": [
    "model.fit(X_train, y_train,\n",
    "          batch_size=batch_size,\n",
    "          epochs=1,\n",
    "          verbose=1,\n",
    "          validation_data=(X_test, y_test)\n",
    "         )\n",
    "model.save('mod_1_epoch')"
   ]
  },
  {
   "cell_type": "code",
   "execution_count": 57,
   "metadata": {},
   "outputs": [
    {
     "name": "stdout",
     "output_type": "stream",
     "text": [
      "Train on 862769 samples, validate on 215693 samples\n",
      "Epoch 1/1\n",
      "862769/862769 [==============================] - 1644s 2ms/step - loss: 0.4031 - acc: 0.8734 - val_loss: 0.2348 - val_acc: 0.9283\n"
     ]
    }
   ],
   "source": [
    "model.fit(X_train, y_train,\n",
    "          batch_size=batch_size,\n",
    "          epochs=1,\n",
    "          verbose=1,\n",
    "          validation_data=(X_test, y_test)\n",
    "         )\n",
    "model.save('mod_2_epochs')"
   ]
  },
  {
   "cell_type": "code",
   "execution_count": 58,
   "metadata": {},
   "outputs": [
    {
     "name": "stdout",
     "output_type": "stream",
     "text": [
      "Train on 862769 samples, validate on 215693 samples\n",
      "Epoch 1/1\n",
      "862769/862769 [==============================] - 1583s 2ms/step - loss: 0.3723 - acc: 0.8865 - val_loss: 0.2068 - val_acc: 0.9377\n"
     ]
    }
   ],
   "source": [
    "model.fit(X_train, y_train,\n",
    "          batch_size=batch_size,\n",
    "          epochs=1,\n",
    "          verbose=1,\n",
    "          validation_data=(X_test, y_test)\n",
    "         )\n",
    "model.save('mod_3_epochs')"
   ]
  },
  {
   "cell_type": "code",
   "execution_count": 59,
   "metadata": {},
   "outputs": [
    {
     "name": "stdout",
     "output_type": "stream",
     "text": [
      "Train on 862769 samples, validate on 215693 samples\n",
      "Epoch 1/1\n",
      "862769/862769 [==============================] - 1844s 2ms/step - loss: 0.3571 - acc: 0.8914 - val_loss: 0.2162 - val_acc: 0.9374\n"
     ]
    }
   ],
   "source": [
    "model.fit(X_train, y_train,\n",
    "          batch_size=batch_size,\n",
    "          epochs=1,\n",
    "          verbose=1,\n",
    "          validation_data=(X_test, y_test)\n",
    "         )\n",
    "model.save('mod_4_epochs')"
   ]
  },
  {
   "cell_type": "code",
   "execution_count": 60,
   "metadata": {},
   "outputs": [
    {
     "name": "stdout",
     "output_type": "stream",
     "text": [
      "Train on 862769 samples, validate on 215693 samples\n",
      "Epoch 1/1\n",
      "862769/862769 [==============================] - 1476s 2ms/step - loss: 0.3460 - acc: 0.8957 - val_loss: 0.1947 - val_acc: 0.9413\n"
     ]
    }
   ],
   "source": [
    "model.fit(X_train, y_train,\n",
    "          batch_size=batch_size,\n",
    "          epochs=1,\n",
    "          verbose=1,\n",
    "          validation_data=(X_test, y_test)\n",
    "         )\n",
    "model.save('mod_5_epochs')"
   ]
  },
  {
   "cell_type": "code",
   "execution_count": null,
   "metadata": {},
   "outputs": [],
   "source": []
  }
 ],
 "metadata": {
  "kernelspec": {
   "display_name": "Python 3",
   "language": "python",
   "name": "python3"
  },
  "language_info": {
   "codemirror_mode": {
    "name": "ipython",
    "version": 3
   },
   "file_extension": ".py",
   "mimetype": "text/x-python",
   "name": "python",
   "nbconvert_exporter": "python",
   "pygments_lexer": "ipython3",
   "version": "3.6.9"
  }
 },
 "nbformat": 4,
 "nbformat_minor": 4
}
